{
  "nbformat": 4,
  "nbformat_minor": 0,
  "metadata": {
    "colab": {
      "provenance": [],
      "authorship_tag": "ABX9TyOOyynJSz9UKSDH3RL3+GMT",
      "include_colab_link": true
    },
    "kernelspec": {
      "name": "python3",
      "display_name": "Python 3"
    },
    "language_info": {
      "name": "python"
    }
  },
  "cells": [
    {
      "cell_type": "markdown",
      "metadata": {
        "id": "view-in-github",
        "colab_type": "text"
      },
      "source": [
        "<a href=\"https://colab.research.google.com/github/FrancoAndre93/ProjetoJogodoBicho/blob/main/praticando_laco_repeticao.ipynb\" target=\"_parent\"><img src=\"https://colab.research.google.com/assets/colab-badge.svg\" alt=\"Open In Colab\"/></a>"
      ]
    },
    {
      "cell_type": "code",
      "execution_count": null,
      "metadata": {
        "id": "kZv5WnBDbr9A"
      },
      "outputs": [],
      "source": [
        "for i in range(1, 51):\n",
        "  if i %2 == 0:\n",
        "    print(i)"
      ]
    },
    {
      "cell_type": "code",
      "source": [
        "soma = 0\n",
        "for i in range(1, 501):\n",
        "  if i % 2 != 0 and i % 3 == 0:\n",
        "    soma += i\n",
        "print(soma)"
      ],
      "metadata": {
        "colab": {
          "base_uri": "https://localhost:8080/"
        },
        "id": "TinrQf8zdac3",
        "outputId": "fc1f9c2c-415c-4949-b6dd-fd766b58e088"
      },
      "execution_count": null,
      "outputs": [
        {
          "output_type": "stream",
          "name": "stdout",
          "text": [
            "20667\n"
          ]
        }
      ]
    },
    {
      "cell_type": "code",
      "source": [
        "numero = int(input(\"Numero: \"))\n",
        "contador = 1\n",
        "for i in range(1,11):\n",
        "  if contador <= 10:\n",
        "    print(f\"{numero} x {i} = {numero * i}\")\n",
        "    i += 1"
      ],
      "metadata": {
        "id": "Csicrlo3ezWn"
      },
      "execution_count": null,
      "outputs": []
    },
    {
      "cell_type": "code",
      "source": [
        "contador = 0\n",
        "for i in range(0, 6):\n",
        "  i = int(input('Digite um valor: '))\n",
        "  if i %2 == 0:\n",
        "    contador += i\n",
        "print('A somatória é: {}'.format(contador))"
      ],
      "metadata": {
        "id": "0VfZUhvef0rQ"
      },
      "execution_count": null,
      "outputs": []
    },
    {
      "cell_type": "code",
      "source": [
        "p_termo = int(input('primeiro termo: '))\n",
        "razao = int(input('razao: '))\n",
        "for i in range(1, 11):\n",
        "  termo = p_termo + (i -1) * razao\n",
        "  print(termo)"
      ],
      "metadata": {
        "id": "zXjiBcDKimBO"
      },
      "execution_count": null,
      "outputs": []
    },
    {
      "cell_type": "code",
      "source": [
        "num = int(input(\"Digite um número: \"))\n",
        "for i in range(1, 11):  # De 1 a 10 (inclusive)\n",
        "    print(f\"numero: {num * i} - {i}\")  # Multiplica o número pela posição\n"
      ],
      "metadata": {
        "id": "SgvbaHaslAQZ"
      },
      "execution_count": null,
      "outputs": []
    },
    {
      "cell_type": "code",
      "source": [
        "numero = int(input(\"Digite um número: \"))\n",
        "\n",
        "if numero > 2 and numero % 2 == 0:\n",
        "  print(\"O número é primo: \")\n",
        "else:\n",
        "  print(\"O número não é primo\")"
      ],
      "metadata": {
        "id": "bBasiPMYKyzv",
        "colab": {
          "base_uri": "https://localhost:8080/"
        },
        "outputId": "556b8802-9d17-453a-bd1f-1149a7c8ebe5"
      },
      "execution_count": null,
      "outputs": [
        {
          "output_type": "stream",
          "name": "stdout",
          "text": [
            "Digite um número: 57\n",
            "O número não é primo\n"
          ]
        }
      ]
    }
  ]
}